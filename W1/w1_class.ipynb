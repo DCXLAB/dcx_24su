{
 "cells": [
  {
   "cell_type": "markdown",
   "metadata": {},
   "source": [
    "### I 변수, 자료형, 연산자, 입출력문"
   ]
  },
  {
   "cell_type": "code",
   "execution_count": null,
   "metadata": {},
   "outputs": [],
   "source": [
    "type(1.0)"
   ]
  },
  {
   "cell_type": "code",
   "execution_count": null,
   "metadata": {},
   "outputs": [],
   "source": [
    "type('뉴진스의 하입보이요')"
   ]
  },
  {
   "cell_type": "code",
   "execution_count": null,
   "metadata": {},
   "outputs": [],
   "source": [
    "hype_boy = '뉴진스의 하입보이요'\n",
    "hype_boy[0:3]"
   ]
  },
  {
   "cell_type": "markdown",
   "metadata": {},
   "source": [
    "### II 조건문과 반복문, III 군집자료형과 for 반복문"
   ]
  },
  {
   "cell_type": "code",
   "execution_count": null,
   "metadata": {},
   "outputs": [],
   "source": [
    "num = int(input())\n",
    "sum = 0\n",
    "idx = 1\n",
    "\n",
    "while num > sum:\n",
    "    sum += idx\n",
    "    idx += 1"
   ]
  },
  {
   "cell_type": "code",
   "execution_count": null,
   "metadata": {},
   "outputs": [],
   "source": [
    "input_date = str(input())\n",
    "month = int(input_date.split('/')[0])\n",
    "date = int(input_date.split('/')[1])\n",
    "\n",
    "month_dict = {1: 31, 2: 29, 3: 31, 4: 30, 5: 31, 6 : 30, 7: 31, 8: 31, 9: 30, 10: 31, 11 : 30, 12: 31}\n",
    "day_dict = {1: '월요일', 2: '화요일', 3: '수요일', 4: '목요일', 5: '금요일', 6: '토요일', 0: '일요일'}\n",
    "\n",
    "day = 0\n",
    "\n",
    "if month == 1:\n",
    "    day += date\n",
    "else:\n",
    "    for i in range(1, month):\n",
    "        day += month_dict[i]\n",
    "    day += date\n",
    "    \n",
    "print(day_dict[day%7])"
   ]
  },
  {
   "cell_type": "markdown",
   "metadata": {},
   "source": [
    "### IV. 함수와 모듈, V. 예외 처리, 파일입출력, 클래스와 객체"
   ]
  },
  {
   "cell_type": "code",
   "execution_count": null,
   "metadata": {},
   "outputs": [],
   "source": [
    "def 버거울_때(input_text):\n",
    "\t\tif input_text == None:\n",
    "\t\t\t\toutput_text = \"버거울 때 버거 먹어요.\"\n",
    "\t\telse:\n",
    "\t\t\t\toutput_text = f\"버거울 때 {input_text} 먹어요.\"\n",
    "\t\t\n",
    "\t\treturn output_text\n",
    "\n",
    "print(버거울_때())\n",
    "print(버거울_때('돈까스'))"
   ]
  },
  {
   "cell_type": "code",
   "execution_count": null,
   "metadata": {},
   "outputs": [],
   "source": [
    "# 클래스 선언\n",
    "\n",
    "class Newjeans():\n",
    "    def __init__(self, name, age, nationality):\n",
    "        self.name = name\n",
    "        self.age = age\n",
    "        self.nationality = nationality\n",
    "        \n",
    "    def tyoko(self, text):\n",
    "        print(f\"{self.name}는 이번 도쿄돔 버니즈 캠프에서 {text}를 불렀다.\")"
   ]
  },
  {
   "cell_type": "code",
   "execution_count": null,
   "metadata": {},
   "outputs": [],
   "source": [
    "Minji = Newjeans('민지', 20, 'Korean') # def __init__(Minji, 'Minji', 20, 'Korean')\n",
    "Hanni = Newjeans('하니', 19, 'Australian/Vietnamese') # def __init__(Hanni, 'Hanni', 19, 'Australian/Vietnamese')]"
   ]
  },
  {
   "cell_type": "code",
   "execution_count": null,
   "metadata": {},
   "outputs": [],
   "source": [
    "print(Minji.age)"
   ]
  },
  {
   "cell_type": "code",
   "execution_count": null,
   "metadata": {},
   "outputs": [],
   "source": [
    "Hanni.tyoko('푸른 산호초') # def tyoko(Hanni, '푸른 산호초')"
   ]
  },
  {
   "cell_type": "code",
   "execution_count": null,
   "metadata": {},
   "outputs": [],
   "source": [
    "# Newjeans 클래스를 상속받는 Haerin 클래스 선언\n",
    "class HR(Newjeans):\n",
    "    def __init__(self, name, age, nationality):\n",
    "        super().__init__(name, age, nationality)\n",
    "        \n",
    "    def tyoko(self):\n",
    "        print(f\"{self.name}는 이번 도쿄돔 버니즈 캠프에서 댄스 솔로 무대를 했다.\")"
   ]
  },
  {
   "cell_type": "code",
   "execution_count": null,
   "metadata": {},
   "outputs": [],
   "source": [
    "Haerin = HR('해린', 18, 'Korean')"
   ]
  },
  {
   "cell_type": "code",
   "execution_count": null,
   "metadata": {},
   "outputs": [],
   "source": [
    "Haerin.tyoko()"
   ]
  }
 ],
 "metadata": {
  "kernelspec": {
   "display_name": "Python 3",
   "language": "python",
   "name": "python3"
  },
  "language_info": {
   "codemirror_mode": {
    "name": "ipython",
    "version": 3
   },
   "file_extension": ".py",
   "mimetype": "text/x-python",
   "name": "python",
   "nbconvert_exporter": "python",
   "pygments_lexer": "ipython3",
   "version": "3.8.16"
  }
 },
 "nbformat": 4,
 "nbformat_minor": 2
}
