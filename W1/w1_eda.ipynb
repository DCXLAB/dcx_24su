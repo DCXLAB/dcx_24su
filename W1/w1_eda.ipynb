{
 "cells": [
  {
   "cell_type": "markdown",
   "metadata": {},
   "source": [
    "## 1. Load the dataset"
   ]
  },
  {
   "cell_type": "markdown",
   "metadata": {},
   "source": [
    "[뉴욕 승차공유 플랫폼 탑승 데이터](https://www.nyc.gov/assets/tlc/downloads/pdf/data_dictionary_trip_records_hvfhs.pdf)"
   ]
  },
  {
   "cell_type": "code",
   "execution_count": null,
   "metadata": {},
   "outputs": [],
   "source": [
    "import pandas as pd\n",
    "import os\n",
    "import matplotlib.pyplot as plt\n",
    "import seaborn as sns\n",
    "from matplotlib.ticker import MaxNLocator, StrMethodFormatter\n",
    "\n",
    "df = pd.read_csv('./data/fhvhv_tripdata_2023.csv')"
   ]
  },
  {
   "cell_type": "code",
   "execution_count": null,
   "metadata": {},
   "outputs": [],
   "source": [
    "pd.set_option('float_format', '{:.2f}'.format)\n",
    "\n",
    "df.info() # 전체 데이터 정보와 결측치 확인 가능"
   ]
  },
  {
   "cell_type": "markdown",
   "metadata": {},
   "source": [
    "## 2. Data description"
   ]
  },
  {
   "cell_type": "code",
   "execution_count": null,
   "metadata": {},
   "outputs": [],
   "source": [
    "df.describe() # 데이터의 기초 통계량 확인 가능"
   ]
  },
  {
   "cell_type": "code",
   "execution_count": null,
   "metadata": {},
   "outputs": [],
   "source": [
    "# hvfhs_license_num: HVFHS; HV0003: Uber, HV0005: Lyft\n",
    "# dispatching_base_num: B03404: Uber, B02835: Lyft\n",
    "# originating_dispatch_base_num: B03404: Uber, B02835: Lyft\n",
    "# requested_pickup_time: 요청한 픽업 시간\n",
    "# on_scene_datetime: 픽업 장소에 도착한 시간\n",
    "# pickup_datetime: 승차한 시간\n",
    "# dropoff_datetime: 하차한 시간\n",
    "# passenger_count: 승객 수\n",
    "# PULocationID: 승차 위치 ID\n",
    "# DOLocationID: 하차 위치 ID\n",
    "# trip_miles: 여행한 거리\n",
    "# trip_times: 여행한 시간\n",
    "# base_passenger_fare: 기본 승객 요금\n",
    "# tolls: 통행료\n",
    "# bcf: black car fund\n",
    "# sales_tax: 판매세\n",
    "# congestion_surcharge: 혼잡료\n",
    "# airport_fee: 공항 요금\n",
    "# tips: 팁\n",
    "# driver_pay: 드라이버의 총 지급액\n",
    "# shared_request_flag: 승객이 공유 픽업에 동의했는지 여부\n",
    "# shared_match_flag: 승객이 다른 승객과 공유되었는지 여부\n",
    "# access_a_ride_flag: MTA를 대신해 승객을 태웠는지 여부\n",
    "# wav_request_flag: 승객이 휠체어 접근 가능한 차량을 요청했는지 여부\n",
    "# wav_matched_flag: 승객이 휠체어 접근 가능한 차량을 탔는지 여부"
   ]
  },
  {
   "cell_type": "code",
   "execution_count": null,
   "metadata": {},
   "outputs": [],
   "source": [
    "df"
   ]
  },
  {
   "cell_type": "markdown",
   "metadata": {},
   "source": [
    "## 3. Missing value check"
   ]
  },
  {
   "cell_type": "code",
   "execution_count": null,
   "metadata": {},
   "outputs": [],
   "source": [
    "missing_values = df.isnull().sum()\n",
    "missing_values"
   ]
  },
  {
   "cell_type": "code",
   "execution_count": null,
   "metadata": {},
   "outputs": [],
   "source": [
    "# 결측치 대체\n",
    "df['on_scene_datetime'].fillna('Unknown', inplace=True)\n",
    "\n",
    "# 결측치 제거\n",
    "df.dropna(subset=['on_scene_datetime'], inplace=True)"
   ]
  },
  {
   "cell_type": "code",
   "execution_count": null,
   "metadata": {},
   "outputs": [],
   "source": [
    "missing_values = df.isnull().sum()\n",
    "missing_values"
   ]
  },
  {
   "cell_type": "markdown",
   "metadata": {},
   "source": [
    "## 4. Outlier check"
   ]
  },
  {
   "cell_type": "code",
   "execution_count": null,
   "metadata": {},
   "outputs": [],
   "source": [
    "# pickup_datetime을 datetime 형식으로 변환\n",
    "df['pickup_datetime'] = pd.to_datetime(df['pickup_datetime'])\n",
    "df['month'] = df['pickup_datetime'].dt.to_period('M')"
   ]
  },
  {
   "cell_type": "code",
   "execution_count": null,
   "metadata": {},
   "outputs": [],
   "source": [
    "# Seaborn 스타일 설정\n",
    "sns.set(style=\"whitegrid\")\n",
    "\n",
    "# hvfhs_license_num별로 데이터를 나누어 각각 Boxplot을 그림\n",
    "license_nums = ['HV0003', 'HV0005']\n",
    "\n",
    "for license_num in license_nums:\n",
    "    plt.figure(figsize=(14, 7))\n",
    "    sns.boxplot(x='month', y='trip_miles', data=df[df['hvfhs_license_num'] == license_num])\n",
    "    plt.title(f'Trip Miles Monthly Boxplot for {license_num}')\n",
    "    plt.xticks(rotation=45)\n",
    "    plt.xlabel('Month')\n",
    "    plt.ylabel('Trip Miles')\n",
    "    plt.show()"
   ]
  },
  {
   "cell_type": "markdown",
   "metadata": {},
   "source": [
    "## 5. Data visualization"
   ]
  },
  {
   "cell_type": "code",
   "execution_count": null,
   "metadata": {},
   "outputs": [],
   "source": [
    "import pandas as pd\n",
    "import seaborn as sns\n",
    "import matplotlib.pyplot as plt\n",
    "\n",
    "# 월별로 hvfhs_license_num의 빈도수 계산\n",
    "df['month'] = pd.to_datetime(df['pickup_datetime']).dt.month\n",
    "monthly_counts = df.groupby(['month', 'hvfhs_license_num']).size().reset_index(name='counts')\n",
    "\n",
    "# 'month' 열을 문자열로 변환\n",
    "monthly_counts['month'] = monthly_counts['month'].apply(lambda x: f'Month {x}')\n",
    "\n",
    "# 단일 축 그래프를 사용하여 월별 빈도를 함께 표시\n",
    "plt.figure(figsize=(12, 6))\n",
    "sns.barplot(data=monthly_counts, x='month', y='counts', hue='hvfhs_license_num')\n",
    "\n",
    "# 평균값에 대한 선 추가\n",
    "average_counts = monthly_counts.groupby('hvfhs_license_num')['counts'].mean().reset_index()\n",
    "for index, row in average_counts.iterrows():\n",
    "    plt.axhline(y=row['counts'], color='red', linestyle='--')\n",
    "\n",
    "plt.legend(title='HVFHS License Number', loc='upper left', bbox_to_anchor=(1, 1))\n",
    "\n",
    "plt.xlabel('Month')\n",
    "plt.ylabel('Frequency')\n",
    "plt.title('Monthly Frequency of HVFHS License Numbers')\n",
    "plt.xticks(rotation=45)  # x축 라벨 회전\n",
    "plt.show()"
   ]
  },
  {
   "cell_type": "code",
   "execution_count": null,
   "metadata": {},
   "outputs": [],
   "source": [
    "import matplotlib.pyplot as plt\n",
    "\n",
    "df['pickup_datetime'] = pd.to_datetime(df['pickup_datetime'])\n",
    "df['trip_time_min'] = df['trip_time'] / 60\n",
    "numeric_cols = ['trip_miles', 'trip_time_min', 'driver_pay']\n",
    "grouped = df[numeric_cols].groupby(df['pickup_datetime'].dt.hour).mean()\n",
    "\n",
    "plt.figure(figsize=(15, 5))\n",
    "\n",
    "plt.subplot(1, 3, 1)\n",
    "plt.plot(grouped['trip_miles'], marker='o')\n",
    "plt.title('Average Trip Miles by Hour')\n",
    "plt.xlabel('Hour of Day')\n",
    "plt.ylabel('Average Trip Miles')\n",
    "\n",
    "plt.subplot(1, 3, 2)\n",
    "plt.plot(grouped['trip_time_min'], marker='o', color='orange')\n",
    "plt.title('Average Trip Time by Hour')\n",
    "plt.xlabel('Hour of Day')\n",
    "plt.ylabel('Average Trip Time (min)')\n",
    "\n",
    "plt.subplot(1, 3, 3)\n",
    "plt.plot(grouped['driver_pay'], marker='o', color='green')\n",
    "plt.title('Average Driver Pay by Hour')\n",
    "plt.xlabel('Hour of Day')\n",
    "plt.ylabel('Average Driver Pay')\n",
    "\n",
    "plt.show()"
   ]
  },
  {
   "cell_type": "markdown",
   "metadata": {},
   "source": [
    "## 6. Modeling"
   ]
  },
  {
   "cell_type": "code",
   "execution_count": null,
   "metadata": {},
   "outputs": [],
   "source": [
    "import pandas as pd\n",
    "\n",
    "def assign_time_category(hour):\n",
    "    if hour < 6:\n",
    "        return 'dawn'\n",
    "    elif 6 <= hour < 10:\n",
    "        return 'morning'\n",
    "    elif 10 <= hour < 16:\n",
    "        return 'afternoon'\n",
    "    elif 16 <= hour < 20:\n",
    "        return 'evening'\n",
    "    else:\n",
    "        return 'night'\n",
    "\n",
    "def filter_and_group_by_time_and_license(df, license_num):\n",
    "    df['pickup_datetime'] = pd.to_datetime(df['pickup_datetime'])\n",
    "    df['time_category'] = df['pickup_datetime'].dt.hour.apply(assign_time_category)\n",
    "\n",
    "    filtered_grouped = df[df['hvfhs_license_num'] == license_num].groupby('time_category')\n",
    "    return filtered_grouped\n",
    "\n",
    "# Example usage\n",
    "df['pickup_datetime'] = pd.to_datetime(df['pickup_datetime']) # Assuming df is your DataFrame\n",
    "uber_groups = filter_and_group_by_time_and_license(df, 'HV0003')\n",
    "lyft_groups = filter_and_group_by_time_and_license(df, 'HV0005')"
   ]
  },
  {
   "cell_type": "code",
   "execution_count": null,
   "metadata": {},
   "outputs": [],
   "source": [
    "plt.figure(figsize=(15, 30))\n",
    "\n",
    "sorted_time_categories = ['dawn', 'morning', 'afternoon', 'evening', 'night']\n",
    "uber_avg_trip_miles = uber_groups['trip_miles'].mean().reindex(sorted_time_categories)\n",
    "uber_avg_trip_time = uber_groups['trip_time'].mean().reindex(sorted_time_categories)\n",
    "uber_avg_fare = uber_groups['base_passenger_fare'].mean().reindex(sorted_time_categories)\n",
    "uber_driver_pay = uber_groups['driver_pay'].mean().reindex(sorted_time_categories)\n",
    "\n",
    "lyft_avg_trip_miles = lyft_groups['trip_miles'].mean().reindex(sorted_time_categories)\n",
    "lyft_avg_trip_time = lyft_groups['trip_time'].mean().reindex(sorted_time_categories)\n",
    "lyft_avg_fare = lyft_groups['base_passenger_fare'].mean().reindex(sorted_time_categories)\n",
    "lyft_driver_pay = lyft_groups['driver_pay'].mean().reindex(sorted_time_categories)\n",
    "\n",
    "plt.subplot(4, 1, 1)\n",
    "plt.plot(uber_avg_trip_miles, marker='o', color='purple')\n",
    "plt.plot(lyft_avg_trip_miles, marker='o', color='orange')\n",
    "plt.title('Average Trip Miles by Time Category')\n",
    "\n",
    "plt.subplot(4, 1, 2)\n",
    "plt.plot(uber_avg_trip_time, marker='o', color='purple')\n",
    "plt.plot(lyft_avg_trip_time, marker='o', color='orange')\n",
    "plt.title('Average Trip Time by Time Category')\n",
    "\n",
    "plt.subplot(4, 1, 3)\n",
    "plt.plot(uber_avg_fare, marker='o', color='purple')\n",
    "plt.plot(lyft_avg_fare, marker='o', color='orange')\n",
    "plt.title('Average Fare by Time Category')\n",
    "\n",
    "plt.subplot(4, 1, 4)\n",
    "plt.plot(uber_driver_pay, marker='o', color='purple')\n",
    "plt.plot(lyft_driver_pay, marker='o', color='orange')\n",
    "plt.title('Average Driver Pay by Time Category')\n",
    "\n",
    "plt.legend(['Uber', 'Lyft'], loc='upper left', bbox_to_anchor=(1, 1))\n",
    "plt.show()"
   ]
  },
  {
   "cell_type": "code",
   "execution_count": null,
   "metadata": {},
   "outputs": [],
   "source": [
    "uber_avg_trip_miles, uber_avg_trip_time, uber_avg_fare, uber_driver_pay"
   ]
  },
  {
   "cell_type": "code",
   "execution_count": null,
   "metadata": {},
   "outputs": [],
   "source": [
    "lyft_avg_trip_miles, lyft_avg_trip_time, lyft_avg_fare, lyft_driver_pay"
   ]
  },
  {
   "cell_type": "code",
   "execution_count": null,
   "metadata": {},
   "outputs": [],
   "source": [
    "df['time_category'] = df['pickup_datetime'].dt.hour.apply(assign_time_category)\n",
    "\n",
    "# 시간대 카테고리를 Categorical 타입으로 변환하고 정렬\n",
    "sorted_time_categories = ['dawn', 'morning', 'afternoon', 'evening', 'night']\n",
    "df['time_category'] = pd.Categorical(df['time_category'], categories=sorted_time_categories, ordered=True)"
   ]
  },
  {
   "cell_type": "code",
   "execution_count": null,
   "metadata": {},
   "outputs": [],
   "source": [
    "df"
   ]
  },
  {
   "cell_type": "code",
   "execution_count": null,
   "metadata": {},
   "outputs": [],
   "source": [
    "# hvfhs_license_num: HVFHS; HV0003: Uber, HV0005: Lyft\n",
    "# dispatching_base_num: B03404: Uber, B02835: Lyft\n",
    "# originating_dispatch_base_num: B03404: Uber, B02835: Lyft\n",
    "# requested_pickup_time: 요청한 픽업 시간\n",
    "# on_scene_datetime: 픽업 장소에 도착한 시간\n",
    "# pickup_datetime: 승차한 시간\n",
    "# dropoff_datetime: 하차한 시간\n",
    "# passenger_count: 승객 수\n",
    "# PULocationID: 승차 위치 ID\n",
    "# DOLocationID: 하차 위치 ID\n",
    "# trip_miles: 여행한 거리\n",
    "# trip_times: 여행한 시간\n",
    "# base_passenger_fare: 기본 승객 요금\n",
    "# tolls: 통행료\n",
    "# bcf: black car fund\n",
    "# sales_tax: 판매세\n",
    "# congestion_surcharge: 혼잡료\n",
    "# airport_fee: 공항 요금\n",
    "# tips: 팁\n",
    "# driver_pay: 드라이버의 총 지급액\n",
    "# shared_request_flag: 승객이 공유 픽업에 동의했는지 여부\n",
    "# shared_match_flag: 승객이 다른 승객과 공유되었는지 여부\n",
    "# access_a_ride_flag: MTA를 대신해 승객을 태웠는지 여부\n",
    "# wav_request_flag: 승객이 휠체어 접근 가능한 차량을 요청했는지 여부\n",
    "# wav_matched_flag: 승객이 휠체어 접근 가능한 차량을 탔는지 여부"
   ]
  },
  {
   "cell_type": "code",
   "execution_count": null,
   "metadata": {},
   "outputs": [],
   "source": [
    "features = ['PULocationID', 'DOLocationID', 'trip_miles', 'trip_time', 'base_passenger_fare', \n",
    "            'tolls', 'bcf', 'sales_tax', 'congestion_surcharge', 'airport_fee', 'tips', 'time_category']\n",
    "\n",
    "X = df[features]\n",
    "y = df['driver_pay']"
   ]
  },
  {
   "cell_type": "code",
   "execution_count": null,
   "metadata": {},
   "outputs": [],
   "source": [
    "import numpy as np\n",
    "from sklearn.model_selection import train_test_split\n",
    "from sklearn.preprocessing import StandardScaler, OneHotEncoder\n",
    "from sklearn.compose import ColumnTransformer\n",
    "from sklearn.pipeline import Pipeline\n",
    "from sklearn.ensemble import RandomForestRegressor\n",
    "from sklearn.metrics import mean_absolute_error, mean_squared_error, r2_score"
   ]
  },
  {
   "cell_type": "code",
   "execution_count": null,
   "metadata": {},
   "outputs": [],
   "source": [
    "X_train, X_test, y_train, y_test = train_test_split(X, y, test_size=0.2, random_state=42)\n",
    "\n",
    "# 수치형 및 범주형 특성 구분\n",
    "numeric_features = ['trip_miles', 'trip_time', 'base_passenger_fare', 'tolls', 'bcf', 'sales_tax', 'congestion_surcharge', 'airport_fee', 'tips']\n",
    "categorical_features = ['PULocationID', 'DOLocationID', 'time_category']\n",
    "\n",
    "# 전처리 파이프라인 설정\n",
    "numeric_transformer = Pipeline(steps=[\n",
    "    ('scaler', StandardScaler())\n",
    "])\n",
    "\n",
    "categorical_transformer = Pipeline(steps=[\n",
    "    ('onehot', OneHotEncoder())\n",
    "])\n",
    "\n",
    "preprocessor = ColumnTransformer(\n",
    "    transformers=[\n",
    "        ('num', numeric_transformer, numeric_features),\n",
    "        ('cat', categorical_transformer, categorical_features)\n",
    "    ]\n",
    ")"
   ]
  },
  {
   "cell_type": "code",
   "execution_count": null,
   "metadata": {},
   "outputs": [],
   "source": [
    "# 전체 파이프라인 설정 (전처리 + 모델)\n",
    "model = Pipeline(steps=[\n",
    "    ('preprocessor', preprocessor),\n",
    "    ('regressor', RandomForestRegressor(n_estimators=100, random_state=42))\n",
    "])\n",
    "\n",
    "# 모델 훈련\n",
    "model.fit(X_train, y_train)\n",
    "\n",
    "# 예측\n",
    "y_pred = model.predict(X_test)\n",
    "\n",
    "# 평가\n",
    "mae = mean_absolute_error(y_test, y_pred)\n",
    "mse = mean_squared_error(y_test, y_pred)\n",
    "rmse = np.sqrt(mse)\n",
    "r2 = r2_score(y_test, y_pred)\n",
    "\n",
    "print(f'MAE: {mae}')\n",
    "print(f'MSE: {mse}')\n",
    "print(f'RMSE: {rmse}')\n",
    "print(f'R2 Score: {r2}')"
   ]
  }
 ],
 "metadata": {
  "kernelspec": {
   "display_name": "basicstudy",
   "language": "python",
   "name": "python3"
  },
  "language_info": {
   "codemirror_mode": {
    "name": "ipython",
    "version": 3
   },
   "file_extension": ".py",
   "mimetype": "text/x-python",
   "name": "python",
   "nbconvert_exporter": "python",
   "pygments_lexer": "ipython3",
   "version": "3.8.undefined"
  }
 },
 "nbformat": 4,
 "nbformat_minor": 2
}
