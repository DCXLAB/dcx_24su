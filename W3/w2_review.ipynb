{
 "cells": [
  {
   "cell_type": "code",
   "execution_count": null,
   "metadata": {},
   "outputs": [],
   "source": [
    "## vscode \n",
    "\n",
    "# python: 인터프리터 선택 > conda env 동일하게 선택"
   ]
  },
  {
   "cell_type": "code",
   "execution_count": null,
   "metadata": {},
   "outputs": [],
   "source": [
    "# !pip install torch torchvision numpy matplotlib"
   ]
  },
  {
   "cell_type": "code",
   "execution_count": null,
   "metadata": {},
   "outputs": [],
   "source": [
    "# imports\n",
    "import torch\n",
    "import torch.nn as nn\n",
    "import torch.nn.functional as F\n",
    "import torch.optim as optim\n",
    "import torch.optim.lr_scheduler as lr_scheduler\n",
    "\n",
    "from torch.utils.tensorboard import SummaryWriter\n",
    "\n",
    "import torchvision\n",
    "from torchvision import transforms, datasets\n",
    "\n",
    "import numpy as np\n",
    "import matplotlib.pyplot as plt"
   ]
  },
  {
   "cell_type": "code",
   "execution_count": null,
   "metadata": {},
   "outputs": [],
   "source": [
    "if torch.cuda.is_available():\n",
    "    device = torch.device('cuda')\n",
    "# elif torch.backends.mps.is_available():\n",
    "#     device = torch.device('mps')\n",
    "else:\n",
    "    device = torch.device('cpu')\n",
    "\n",
    "print(\"Using PyTorch version:\", torch.__version__,' Device:', device)"
   ]
  },
  {
   "cell_type": "code",
   "execution_count": null,
   "metadata": {},
   "outputs": [],
   "source": [
    "# transforms\n",
    "transform = transforms.Compose(\n",
    "    [transforms.ToTensor(),\n",
    "    transforms.Normalize((0.5,), (0.5,))])\n",
    "\n",
    "# datasets\n",
    "train_set = datasets.FashionMNIST('./data',\n",
    "    download=True,\n",
    "    train=True,\n",
    "    transform=transform)\n",
    "test_set = datasets.FashionMNIST('./data',\n",
    "    download=True,\n",
    "    train=False,\n",
    "    transform=transform)\n",
    "\n",
    "# dataloaders\n",
    "BATCH_SIZE = \n",
    "\n",
    "train_loader = \n",
    "test_loader = "
   ]
  },
  {
   "cell_type": "code",
   "execution_count": null,
   "metadata": {},
   "outputs": [],
   "source": [
    "writer = SummaryWriter('runs/fashion_mnist_experiment')"
   ]
  },
  {
   "cell_type": "code",
   "execution_count": null,
   "metadata": {},
   "outputs": [],
   "source": [
    "# vs code 없는 사람: \n",
    "# command: tensorboard --logdir=runs\n",
    "# browser: https://localhost:6006"
   ]
  },
  {
   "cell_type": "code",
   "execution_count": null,
   "metadata": {},
   "outputs": [],
   "source": [
    "def matplotlib_imshow(img, one_channel=False):\n",
    "    if one_channel:\n",
    "        img = img.mean(dim=0)\n",
    "    img = img / 2 + 0.5\n",
    "    npimg = img.numpy()\n",
    "    if one_channel:\n",
    "        plt.imshow(npimg, cmap=\"Greys\")\n",
    "    else:\n",
    "        plt.imshow(np.transpose(npimg, (1, 2, 0)))\n",
    "\n",
    "dataiter = iter(train_loader)\n",
    "images, labels = next(dataiter)\n",
    "\n",
    "img_grid = torchvision.utils.make_grid(images)\n",
    "matplotlib_imshow(img_grid, one_channel=True)\n",
    "\n",
    "writer.add_image('four_fashion_mnist_images', img_grid)"
   ]
  },
  {
   "cell_type": "code",
   "execution_count": null,
   "metadata": {},
   "outputs": [],
   "source": [
    "# classes\n",
    "classes = ('T-shirt/top', 'Trouser', 'Pullover', 'Dress', 'Coat',\n",
    "        'Sandal', 'Shirt', 'Sneaker', 'Bag', 'Ankle Boot')"
   ]
  },
  {
   "cell_type": "code",
   "execution_count": null,
   "metadata": {},
   "outputs": [],
   "source": [
    "class Net(nn.Module):\n",
    "    def __init__(self):\n",
    "\n",
    "        \n",
    "    def forward(self,x):\n"
   ]
  },
  {
   "cell_type": "code",
   "execution_count": null,
   "metadata": {},
   "outputs": [],
   "source": [
    "# Model\n",
    "model = \n",
    "\n",
    "# Optimizer\n",
    "optimizer = \n",
    "\n",
    "# Loss function\n",
    "criterion = \n",
    "\n",
    "# scheduler\n",
    "scheduler = \n",
    "\n",
    "print(model)"
   ]
  },
  {
   "cell_type": "code",
   "execution_count": null,
   "metadata": {},
   "outputs": [],
   "source": [
    "writer.add_graph(model, images)"
   ]
  },
  {
   "cell_type": "code",
   "execution_count": null,
   "metadata": {},
   "outputs": [],
   "source": [
    "def visualize_samples_tensorboard(loader, classes, samples_per_class=5):\n",
    "    class_dict = {i: [] for i in range(len(classes))}\n",
    "    \n",
    "    for img, label in loader:\n",
    "        for i in range(len(img)):\n",
    "            if len(class_dict[label[i].item()]) < samples_per_class:\n",
    "                class_dict[label[i].item()].append(img[i])\n",
    "        if all(len(v) == samples_per_class for v in class_dict.values()):\n",
    "            break\n",
    "    \n",
    "    for label, images in class_dict.items():\n",
    "        grid = torchvision.utils.make_grid(images, nrow=samples_per_class, normalize=True)\n",
    "        writer.add_image(f'{classes[label]} samples', grid, 0)\n",
    "\n",
    "visualize_samples_tensorboard(train_loader, classes)"
   ]
  },
  {
   "cell_type": "code",
   "execution_count": null,
   "metadata": {},
   "outputs": [],
   "source": [
    "def select_n_random(data, labels, n=100):\n",
    "    '''\n",
    "    데이터셋에서 n개의 임의의 데이터포인트(datapoint)와 그에 해당하는 라벨을 선택합니다\n",
    "    '''\n",
    "    assert len(data) == len(labels)\n",
    "\n",
    "    perm = torch.randperm(len(data))\n",
    "    return data[perm][:n], labels[perm][:n]\n",
    "\n",
    "images, labels = select_n_random(train_set.data, train_set.targets)\n",
    "\n",
    "class_labels = [classes[lab] for lab in labels]\n",
    "\n",
    "features = images.view(-1, 28 * 28)\n",
    "writer.add_embedding(features,\n",
    "                    metadata=class_labels,\n",
    "                    label_img=images.unsqueeze(1))\n",
    "\n",
    "def images_to_probs(net, images):\n",
    "    '''\n",
    "    학습된 신경망과 이미지 목록으로부터 예측 결과 및 확률을 생성합니다\n",
    "    '''\n",
    "    output = net(images)\n",
    "    _, preds_tensor = torch.max(output, 1)\n",
    "    preds = np.squeeze(preds_tensor.numpy())\n",
    "    return preds, [F.softmax(el, dim=0)[i].item() for i, el in zip(preds, output)]\n",
    "\n",
    "\n",
    "def plot_classes_preds(net, images, labels):\n",
    "    '''\n",
    "    학습된 신경망과 배치로부터 가져온 이미지 / 라벨을 사용하여 matplotlib\n",
    "    Figure를 생성합니다. 이는 신경망의 예측 결과 / 확률과 함께 정답을 보여주며,\n",
    "    예측 결과가 맞았는지 여부에 따라 색을 다르게 표시합니다. \"images_to_probs\"\n",
    "    함수를 사용합니다.\n",
    "    '''\n",
    "    preds, probs = images_to_probs(net, images)\n",
    "    fig = plt.figure(figsize=(12, 48))\n",
    "    for idx in np.arange(4):\n",
    "        ax = fig.add_subplot(1, 4, idx+1, xticks=[], yticks=[])\n",
    "        matplotlib_imshow(images[idx], one_channel=True)\n",
    "        ax.set_title(\"{0}, {1:.1f}%\\n(label: {2})\".format(\n",
    "            classes[preds[idx]],\n",
    "            probs[idx] * 100.0,\n",
    "            classes[labels[idx]]),\n",
    "                    color=(\"green\" if preds[idx]==labels[idx].item() else \"red\"))\n",
    "    return fig"
   ]
  },
  {
   "cell_type": "code",
   "execution_count": null,
   "metadata": {},
   "outputs": [],
   "source": [
    "# 훈련 함수\n",
    "def train(model, train_loader, optimizer, scheduler, criterion, epoch, device, writer=None):\n",
    "\n",
    "    # 모델 훈련 모드로 전환\n",
    "    \n",
    "    # 초기화: loss, corrects, total\n",
    "    \n",
    "    \n",
    "    # 훈련 데이터에 대한 루프\n",
    "    \n",
    "        # 데이터를 디바이스로 이동\n",
    "        \n",
    "        # optimizer 초기화\n",
    "        \n",
    "        # forward\n",
    "        \n",
    "        # loss 계산\n",
    "        \n",
    "        # backward\n",
    "        \n",
    "        # optimizer 업데이트\n",
    "        \n",
    "        # loss 업데이트\n",
    "        \n",
    "        \n",
    "        # 정확도 계산\n",
    "    \n",
    "    \n",
    "    # epoch 당 평균 loss, 정확도 계산\n",
    "    \n",
    "    \n",
    "    # scheduler 업데이트\n",
    "    \n",
    "    # tensorboard에 기록: loss, accuracy\n",
    "    \n",
    "\n",
    "# 테스트 함수\n",
    "def test(model, test_loader, criterion, epoch, device, writer=None):\n",
    "    \n",
    "    # 모델 평가 모드로 전환\n",
    "    \n",
    "    # 초기화: loss, corrects, total\n",
    "    \n",
    "    # 모델에 대한 no_grad\n",
    "    \n",
    "        # 테스트 데이터에 대한 루프\n",
    "        \n",
    "            # 데이터를 디바이스로 이동\n",
    "            \n",
    "            # forward\n",
    "            \n",
    "            # loss 계산\n",
    "            \n",
    "            # loss 업데이트\n",
    "            \n",
    "            # 정확도 계산\n",
    "    \n",
    "    # epoch 당 평균 loss, 정확도 계산\n",
    "    \n",
    "    # tensorboard에 기록: loss, accuracy\n",
    "\n",
    "\n",
    "# 훈련 및 테스트 실행\n",
    "epochs = \n",
    "\n",
    "for epoch in range(1, epochs + 1):\n",
    "    train(model, train_loader, optimizer, scheduler, criterion, epoch, device, writer)\n",
    "    test(model, test_loader, criterion, epoch, device, writer)"
   ]
  },
  {
   "cell_type": "code",
   "execution_count": null,
   "metadata": {},
   "outputs": [],
   "source": [
    "# writer.close()"
   ]
  }
 ],
 "metadata": {
  "kernelspec": {
   "display_name": "nlp",
   "language": "python",
   "name": "python3"
  },
  "language_info": {
   "codemirror_mode": {
    "name": "ipython",
    "version": 3
   },
   "file_extension": ".py",
   "mimetype": "text/x-python",
   "name": "python",
   "nbconvert_exporter": "python",
   "pygments_lexer": "ipython3",
   "version": "3.8.19"
  }
 },
 "nbformat": 4,
 "nbformat_minor": 2
}
