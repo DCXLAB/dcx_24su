{
 "cells": [
  {
   "cell_type": "markdown",
   "metadata": {},
   "source": [
    "# RNN"
   ]
  },
  {
   "cell_type": "code",
   "execution_count": null,
   "metadata": {},
   "outputs": [],
   "source": [
    "import torch\n",
    "import torch.nn as nn\n",
    "import torch.nn.functional as F\n",
    "import torch.optim as optim\n",
    "from torch.utils.data import Dataset, DataLoader, random_split\n",
    "\n",
    "from collections import Counter\n",
    "import numpy as np\n",
    "from tqdm import tqdm\n",
    "import requests\n",
    "import re"
   ]
  },
  {
   "cell_type": "code",
   "execution_count": null,
   "metadata": {},
   "outputs": [],
   "source": [
    "url = \"https://www.gutenberg.org/files/100/100-0.txt\"\n",
    "response = requests.get(url)\n",
    "shakespeare_text = response.text\n",
    "\n",
    "shakespeare_text = re.sub(r'\\s+', ' ', shakespeare_text)"
   ]
  },
  {
   "cell_type": "code",
   "execution_count": null,
   "metadata": {},
   "outputs": [],
   "source": [
    "len(shakespeare_text)"
   ]
  },
  {
   "cell_type": "code",
   "execution_count": null,
   "metadata": {},
   "outputs": [],
   "source": [
    "pprint(shakespeare_text[:1500])"
   ]
  },
  {
   "cell_type": "code",
   "execution_count": null,
   "metadata": {},
   "outputs": [],
   "source": [
    "pattern = re.compile(\"THE TRAGEDY OF HAMLET, PRINCE OF DENMARK\")\n",
    "matches = pattern.finditer(shakespeare_text)\n",
    "for match in matches:\n",
    "    print(match)"
   ]
  },
  {
   "cell_type": "code",
   "execution_count": null,
   "metadata": {},
   "outputs": [],
   "source": [
    "pattern = re.compile(\"THE FIRST PART OF KING HENRY THE FOURTH\")\n",
    "matches = pattern.finditer(shakespeare_text)\n",
    "for match in matches:\n",
    "    print(match)"
   ]
  },
  {
   "cell_type": "code",
   "execution_count": null,
   "metadata": {},
   "outputs": [],
   "source": [
    "hamlet_text = shakespeare_text[927066:1105544]"
   ]
  },
  {
   "cell_type": "code",
   "execution_count": null,
   "metadata": {},
   "outputs": [],
   "source": [
    "pprint(hamlet_text)"
   ]
  },
  {
   "cell_type": "code",
   "execution_count": null,
   "metadata": {},
   "outputs": [],
   "source": [
    "words = re.findall(r'\\b\\w+\\b', hamlet_text.lower())\n",
    "vocab = Counter(words)\n",
    "word_to_ix = {word: i for i, (word, _) in enumerate(vocab.items())}\n",
    "ix_to_word = {i: word for word, i in word_to_ix.items()}\n",
    "\n",
    "encoded_text = [word_to_ix[word] for word in words]\n",
    "\n",
    "class TextDataset(Dataset):\n",
    "    def __init__(self, data, seq_length):\n",
    "        self.data = data\n",
    "        self.seq_length = seq_length\n",
    "\n",
    "    def __len__(self):\n",
    "        return len(self.data) - self.seq_length\n",
    "\n",
    "    def __getitem__(self, idx):\n",
    "        input_seq = self.data[idx:idx + self.seq_length]\n",
    "        target_seq = self.data[idx + 1:idx + self.seq_length + 1]\n",
    "        return torch.tensor(input_seq, dtype=torch.long), torch.tensor(target_seq, dtype=torch.long)"
   ]
  },
  {
   "cell_type": "markdown",
   "metadata": {},
   "source": [
    "## RNN"
   ]
  },
  {
   "cell_type": "code",
   "execution_count": null,
   "metadata": {},
   "outputs": [],
   "source": [
    "class RNNCell(nn.Module):\n",
    "    def __init__(self, input_size, hidden_size):\n",
    "        super(RNNCell, self).__init__()\n",
    "        self.hidden_size = hidden_size\n",
    "        self.i2h = nn.Linear(input_size + hidden_size, hidden_size)\n",
    "        self.h2o = nn.Linear(hidden_size, input_size)\n",
    "        self.tanh = torch.tanh\n",
    "\n",
    "    def forward(self, input, hidden):\n",
    "        combined = torch.cat((input, hidden), 2)  # Adjusted to concat along the feature dimension\n",
    "        hidden = self.i2h(combined)\n",
    "        output = self.h2o(hidden)\n",
    "        output = self.tanh(output)\n",
    "        return output, hidden\n",
    "\n",
    "class RNN(nn.Module):\n",
    "    def __init__(self, input_size, hidden_size, embedding_dim):\n",
    "        super(RNN, self).__init__()\n",
    "        self.hidden_size = hidden_size\n",
    "        self.embedding = nn.Embedding(input_size, embedding_dim)\n",
    "        self.rnn_cell = RNNCell(embedding_dim, hidden_size)\n",
    "\n",
    "    def forward(self, input, hidden):\n",
    "        embedded = self.embedding(input)\n",
    "        outputs = []\n",
    "        for i in range(embedded.size(1)):  # Loop over sequence length\n",
    "            output, hidden = self.rnn_cell(embedded[:, i].unsqueeze(1), hidden)\n",
    "            outputs.append(output)\n",
    "        return torch.cat(outputs, dim=1), hidden\n",
    "\n",
    "    def initHidden(self, batch_size, device):\n",
    "        return torch.zeros(batch_size, 1, self.hidden_size, device=device)"
   ]
  },
  {
   "cell_type": "markdown",
   "metadata": {},
   "source": [
    "## Training"
   ]
  },
  {
   "cell_type": "code",
   "execution_count": null,
   "metadata": {},
   "outputs": [],
   "source": [
    "# Hyperparameters\n",
    "seq_length = 5\n",
    "batch_size = 1024\n",
    "embedding_dim = 128\n",
    "hidden_size = 256\n",
    "learning_rate = 0.001\n",
    "epochs = 50\n",
    "\n",
    "# Initialize the model, criterion, and optimizer\n",
    "model = RNN(len(word_to_ix), hidden_size, embedding_dim)\n",
    "criterion = nn.CrossEntropyLoss()\n",
    "optimizer = optim.Adam(model.parameters(), lr=learning_rate)\n",
    "\n",
    "# Detect the available device\n",
    "device = torch.device(\"mps\" if torch.backends.mps.is_available() else \"cpu\")\n",
    "\n",
    "# Prepare the dataset and dataloader\n",
    "dataset = TextDataset(encoded_text, seq_length)\n",
    "\n",
    "train_size = int(0.8 * len(dataset))\n",
    "test_size = len(dataset) - train_size\n",
    "\n",
    "train_dataset, test_dataset = random_split(dataset, [train_size, test_size])\n",
    "\n",
    "train_loader = DataLoader(train_dataset, batch_size=batch_size, shuffle=True)\n",
    "test_loader = DataLoader(test_dataset, batch_size=batch_size, shuffle=False)"
   ]
  },
  {
   "cell_type": "code",
   "execution_count": null,
   "metadata": {},
   "outputs": [],
   "source": [
    "def train_and_test(model, train_loader, test_loader, criterion, optimizer, epochs, device):\n",
    "    model.to(device)\n",
    "    for epoch in range(epochs):\n",
    "        # Training phase\n",
    "        model.train()\n",
    "        train_loss = 0\n",
    "        for inputs, targets in tqdm(train_loader, desc=f\"Epoch {epoch+1}/{epochs} [Training]\", leave=False):\n",
    "            inputs, targets = inputs.to(device), targets.to(device)\n",
    "            hidden = model.initHidden(inputs.size(0), device)\n",
    "            model.zero_grad()\n",
    "            outputs, hidden = model(inputs, hidden)\n",
    "            loss = criterion(outputs.view(-1, outputs.size(2)), targets.view(-1))\n",
    "            loss.backward()\n",
    "            optimizer.step()\n",
    "            train_loss += loss.item()\n",
    "        avg_train_loss = train_loss / len(train_loader)\n",
    "        \n",
    "        # Testing phase\n",
    "        model.eval()\n",
    "        test_loss = 0\n",
    "        with torch.no_grad():\n",
    "            for inputs, targets in tqdm(test_loader, desc=f\"Epoch {epoch+1}/{epochs} [Testing]\", leave=False):\n",
    "                inputs, targets = inputs.to(device), targets.to(device)\n",
    "                hidden = model.initHidden(inputs.size(0), device)\n",
    "                outputs, hidden = model(inputs, hidden)\n",
    "                loss = criterion(outputs.view(-1, outputs.size(2)), targets.view(-1))\n",
    "                test_loss += loss.item()\n",
    "        avg_test_loss = test_loss / len(test_loader)\n",
    "\n",
    "        print(f'Epoch {epoch+1}/{epochs}, Train Loss: {avg_train_loss:.4f}, Test Loss: {avg_test_loss:.4f}')\n",
    "\n",
    "# Train the model\n",
    "train_and_test(model, train_loader, test_loader, criterion, optimizer, epochs, device)"
   ]
  },
  {
   "cell_type": "markdown",
   "metadata": {},
   "source": [
    "## Prediction"
   ]
  },
  {
   "cell_type": "code",
   "execution_count": null,
   "metadata": {},
   "outputs": [],
   "source": [
    "# Prediction function\n",
    "def predict(model, input_text, word_to_ix, ix_to_word, device, predict_len=100):\n",
    "    model.eval()  # Set the model to evaluation mode\n",
    "    input_seq = [word_to_ix[word] for word in input_text.split() if word in word_to_ix]\n",
    "    input_tensor = torch.tensor(input_seq, dtype=torch.long).unsqueeze(0).to(device)\n",
    "\n",
    "    hidden = model.initHidden(1, device)\n",
    "\n",
    "    predicted_text = input_text\n",
    "\n",
    "    for _ in range(predict_len):\n",
    "        with torch.no_grad():\n",
    "            output, hidden = model(input_tensor, hidden)\n",
    "            output = output[:, -1, :]  # Get the output for the last time step\n",
    "            output_dist = torch.softmax(output.view(-1), dim=0).cpu().numpy()\n",
    "\n",
    "        try:\n",
    "            predicted_word_idx = np.random.choice(len(word_to_ix), p=output_dist)\n",
    "        except ValueError:\n",
    "            predicted_word_idx = np.random.choice(len(word_to_ix))  # Fallback to random choice\n",
    "\n",
    "        predicted_word = ix_to_word[predicted_word_idx]\n",
    "\n",
    "        predicted_text += ' ' + predicted_word\n",
    "\n",
    "        input_tensor = torch.cat((input_tensor, torch.tensor([[predicted_word_idx]], dtype=torch.long).to(device)), dim=1)\n",
    "\n",
    "    return predicted_text\n",
    "\n",
    "# Example usage:\n",
    "input_text = \"to be or not to be that is the question\"\n",
    "predicted_output = predict(model, input_text, word_to_ix, ix_to_word, device)\n",
    "print(predicted_output)"
   ]
  }
 ],
 "metadata": {
  "kernelspec": {
   "display_name": "pytorch",
   "language": "python",
   "name": "python3"
  },
  "language_info": {
   "codemirror_mode": {
    "name": "ipython",
    "version": 3
   },
   "file_extension": ".py",
   "mimetype": "text/x-python",
   "name": "python",
   "nbconvert_exporter": "python",
   "pygments_lexer": "ipython3",
   "version": "3.8.19"
  }
 },
 "nbformat": 4,
 "nbformat_minor": 2
}
