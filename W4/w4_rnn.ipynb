{
 "cells": [
  {
   "cell_type": "markdown",
   "metadata": {},
   "source": [
    "# RNN"
   ]
  },
  {
   "cell_type": "code",
   "execution_count": null,
   "metadata": {},
   "outputs": [],
   "source": [
    "import torch\n",
    "import torch.nn as nn\n",
    "import torch.nn.functional as F\n",
    "import torch.optim as optim\n",
    "from torch.utils.data import Dataset, DataLoader, random_split\n",
    "\n",
    "from collections import Counter\n",
    "import numpy as np\n",
    "from tqdm import tqdm\n",
    "import requests\n",
    "import re"
   ]
  },
  {
   "cell_type": "code",
   "execution_count": null,
   "metadata": {},
   "outputs": [],
   "source": [
    "url = \"https://www.gutenberg.org/files/100/100-0.txt\"\n",
    "response = requests.get(url)\n",
    "shakespeare_text = response.text\n",
    "\n",
    "shakespeare_text = re.sub(r'\\s+', ' ', shakespeare_text)"
   ]
  },
  {
   "cell_type": "code",
   "execution_count": null,
   "metadata": {},
   "outputs": [],
   "source": [
    "len(shakespeare_text)"
   ]
  },
  {
   "cell_type": "code",
   "execution_count": null,
   "metadata": {},
   "outputs": [],
   "source": [
    "pprint(shakespeare_text[:1500])"
   ]
  },
  {
   "cell_type": "code",
   "execution_count": null,
   "metadata": {},
   "outputs": [],
   "source": [
    "pattern = re.compile(\"THE TRAGEDY OF HAMLET, PRINCE OF DENMARK\")\n",
    "matches = pattern.finditer(shakespeare_text)\n",
    "for match in matches:\n",
    "    print(match)"
   ]
  },
  {
   "cell_type": "code",
   "execution_count": null,
   "metadata": {},
   "outputs": [],
   "source": [
    "pattern = re.compile(\"THE FIRST PART OF KING HENRY THE FOURTH\")\n",
    "matches = pattern.finditer(shakespeare_text)\n",
    "for match in matches:\n",
    "    print(match)"
   ]
  },
  {
   "cell_type": "code",
   "execution_count": null,
   "metadata": {},
   "outputs": [],
   "source": [
    "hamlet_text = shakespeare_text[927066:1105544]"
   ]
  },
  {
   "cell_type": "code",
   "execution_count": null,
   "metadata": {},
   "outputs": [],
   "source": [
    "pprint(hamlet_text)"
   ]
  },
  {
   "cell_type": "code",
   "execution_count": null,
   "metadata": {},
   "outputs": [],
   "source": [
    "# 단어 단위로 토큰화\n",
    "\n",
    "words = re.findall(r'\\b\\w+\\b', hamlet_text.lower()) # 소문자로 변환\n",
    "vocab = Counter(words) # 단어 빈도수 계산\n",
    "word_to_ix = {word: i for i, (word, _) in enumerate(vocab.items())} # 단어를 index로 변환\n",
    "ix_to_word = {i: word for word, i in word_to_ix.items()} # index를 단어로 변환\n",
    "\n",
    "encoded_text = [word_to_ix[word] for word in words] # encoded_text: 단어를 index로 변환한 리스트\n",
    "\n",
    "class TextDataset(Dataset):\n",
    "    def __init__(self, data, seq_length):\n",
    "        self.data = data\n",
    "        self.seq_length = seq_length\n",
    "\n",
    "    def __len__(self):\n",
    "        # input sequence와 target sequence를 만들 수 있는 최대 길이: 전체 데이터 길이 - seq_length\n",
    "        return \n",
    "\n",
    "    def __getitem__(self, idx):\n",
    "        # input sequence: (idx)개의 단어로 이루어진 sequence\n",
    "        input_seq = \n",
    "        # target sequence: (idx+1)번째 단어부터 (idx+1+seq_length)번째 단어까지로 이루어진 sequence\n",
    "        target_seq = \n",
    "        \n",
    "        # input_seq, target_seq를 torch tensor로 변환\n",
    "        return "
   ]
  },
  {
   "cell_type": "markdown",
   "metadata": {},
   "source": [
    "## RNN"
   ]
  },
  {
   "cell_type": "code",
   "execution_count": null,
   "metadata": {},
   "outputs": [],
   "source": [
    "class RNNCell(nn.Module):\n",
    "    def __init__(self, input_size, hidden_size):\n",
    "        super(RNNCell, self).__init__()\n",
    "        self.hidden_size =\n",
    "        self.i2h = \n",
    "        self.h2o =\n",
    "        self.tanh =\n",
    "\n",
    "    def forward(self, input, hidden):\n",
    "        # input과 hidden을 concat\n",
    "        ## concat: (batch_size, 1, input_size + hidden_size)\n",
    "        combined =\n",
    "        # W_hh * hidden + W_xh * input\n",
    "        hidden = \n",
    "        # tanh(W_hh * hidden + W_xh * input)\n",
    "        output = \n",
    "        return output, hidden\n",
    "\n",
    "class RNN(nn.Module):\n",
    "    def __init__(self, input_size, hidden_size, embedding_dim):\n",
    "        super(RNN, self).__init__()\n",
    "        self.hidden_size = hidden_size\n",
    "        self.embedding = nn.Embedding(input_size, embedding_dim)\n",
    "        self.rnn_cell = RNNCell(embedding_dim, hidden_size)\n",
    "\n",
    "    def forward(self, input, hidden):\n",
    "        embedded = self.embedding(input) # (batch_size, seq_length, embedding_dim)\n",
    "        outputs = []\n",
    "        for i in range(embedded.size(1)): # seq_length 만큼 반복\n",
    "            output, hidden = self.rnn_cell(embedded[:, i].unsqueeze(1), hidden) # (batch_size, 1, embedding_dim)\n",
    "            outputs.append(output) # (batch_size, 1, hidden_size)\n",
    "        return torch.cat(outputs, dim=1), hidden # (batch_size, seq_length, hidden_size)\n",
    "\n",
    "    def initHidden(self, batch_size, device):\n",
    "        return torch.zeros(batch_size, 1, self.hidden_size, device=device) # hidden cell 초기화"
   ]
  },
  {
   "cell_type": "markdown",
   "metadata": {},
   "source": [
    "## Training"
   ]
  },
  {
   "cell_type": "code",
   "execution_count": null,
   "metadata": {},
   "outputs": [],
   "source": [
    "# Hyperparameters\n",
    "seq_length = 5 # input sequence 길이(단어 개수)\n",
    "batch_size = 1024 # 배치 크기\n",
    "embedding_dim = 128 # 단어 임베딩 차원\n",
    "hidden_size = 256 # hidden state 차원\n",
    "learning_rate = 0.001\n",
    "epochs = 50\n",
    "\n",
    "# Model, Loss, Optimizer 생성\n",
    "model = \n",
    "criterion = \n",
    "optimizer = \n",
    "\n",
    "if torch.cuda.is_available():\n",
    "    device = torch.device('cuda')\n",
    "elif torch.backends.mps.is_available():\n",
    "    device = torch.device('mps')\n",
    "else:\n",
    "    device = torch.device('cpu')\n",
    "\n",
    "# TextDataset 생성\n",
    "dataset =\n",
    "\n",
    "train_size = int(0.8 * len(dataset))\n",
    "test_size = len(dataset) - train_size\n",
    "\n",
    "train_dataset, test_dataset = random_split(dataset, [train_size, test_size])\n",
    "\n",
    "# train_loader, test_loader 생성\n",
    "train_loader = \n",
    "test_loader = "
   ]
  },
  {
   "cell_type": "code",
   "execution_count": null,
   "metadata": {},
   "outputs": [],
   "source": [
    "def train_and_test(model, train_loader, test_loader, criterion, optimizer, epochs, device):\n",
    "    # 모델을 device에 할당\n",
    "    \n",
    "    \n",
    "    # epochs만큼 반복\n",
    "    for \n",
    "        # Training\n",
    "        # model을 train 모드로 설정\n",
    "        \n",
    "        # loss 초기화\n",
    "        \n",
    "        # train_loader를 이용해 학습\n",
    "        for inputs, targets in tqdm(train_loader, desc=f\"Epoch {epoch+1}/{epochs} [Training]\", leave=False):\n",
    "            # inputs, targets를 device에 할당\n",
    "            \n",
    "            # hidden cell, gradient 초기화\n",
    "            hidden = model.initHidden(inputs.size(0), device)\n",
    "            model.zero_grad()\n",
    "            \n",
    "            # model에 inputs를 넣어 output과 hidden을 계산\n",
    "            outputs, hidden = \n",
    "            \n",
    "            # loss 계산 및 역전파\n",
    "            loss = criterion(outputs.view(-1, outputs.size(2)), targets.view(-1))\n",
    "            loss.\n",
    "            optimizer.\n",
    "\n",
    "            # loss 누적\n",
    "            train_loss\n",
    "        \n",
    "        # 평균 train loss 계산(epoch 당)\n",
    "        avg_train_loss =\n",
    "        \n",
    "        # Testing\n",
    "        # model을 eval 모드로 설정\n",
    "        \n",
    "        # loss 초기화\n",
    "        \n",
    "        # gradient 계산 비활성화\n",
    "        \n",
    "            # test_loader를 이용해 테스트\n",
    "            for inputs, targets in tqdm(test_loader, desc=f\"Epoch {epoch+1}/{epochs} [Testing]\", leave=False):\n",
    "                # inputs, targets를 device에 할당\n",
    "                \n",
    "                # hidden cell 초기화\n",
    "                hidden = model.initHidden(inputs.size(0), device)\n",
    "                \n",
    "                # model에 inputs를 넣어 output과 hidden을 계산\n",
    "                outputs, hidden = \n",
    "                \n",
    "                # loss 계산 및 누적\n",
    "                loss = criterion(outputs.view(-1, outputs.size(2)), targets.view(-1))\n",
    "                test_loss\n",
    "                \n",
    "        # 평균 test loss 계산(epoch 당)\n",
    "        avg_test_loss = \n",
    "\n",
    "        print(f'Epoch {epoch+1}/{epochs}, Train Loss: {avg_train_loss:.4f}, Test Loss: {avg_test_loss:.4f}')\n",
    "\n",
    "train_and_test(model, train_loader, test_loader, criterion, optimizer, epochs, device)"
   ]
  },
  {
   "cell_type": "markdown",
   "metadata": {},
   "source": [
    "## Prediction"
   ]
  },
  {
   "cell_type": "code",
   "execution_count": null,
   "metadata": {},
   "outputs": [],
   "source": [
    "def predict(model, input_text, word_to_ix, ix_to_word, device, predict_len=100):\n",
    "    model.eval()\n",
    "    input_seq = [word_to_ix[word] for word in input_text.split() if word in word_to_ix]\n",
    "    input_tensor = torch.tensor(input_seq, dtype=torch.long).unsqueeze(0).to(device)\n",
    "\n",
    "    hidden = model.initHidden(1, device)\n",
    "\n",
    "    predicted_text = input_text\n",
    "\n",
    "    for _ in range(predict_len):\n",
    "        with torch.no_grad():\n",
    "            output, hidden = model(input_tensor, hidden)\n",
    "            output = output[:, -1, :]\n",
    "            output_dist = torch.softmax(output.view(-1), dim=0).cpu().numpy()\n",
    "\n",
    "        try:\n",
    "            predicted_word_idx = np.random.choice(len(word_to_ix), p=output_dist)\n",
    "        except ValueError:\n",
    "            predicted_word_idx = np.random.choice(len(word_to_ix))\n",
    "\n",
    "        predicted_word = ix_to_word[predicted_word_idx]\n",
    "\n",
    "        predicted_text += ' ' + predicted_word\n",
    "\n",
    "        input_tensor = torch.cat((input_tensor, torch.tensor([[predicted_word_idx]], dtype=torch.long).to(device)), dim=1)\n",
    "\n",
    "    return predicted_text\n",
    "\n",
    "input_text = \"to be or not to be that is the question\"\n",
    "predicted_output = predict(model, input_text, word_to_ix, ix_to_word, device)\n",
    "print(predicted_output)"
   ]
  }
 ],
 "metadata": {
  "kernelspec": {
   "display_name": "pytorch",
   "language": "python",
   "name": "python3"
  },
  "language_info": {
   "codemirror_mode": {
    "name": "ipython",
    "version": 3
   },
   "file_extension": ".py",
   "mimetype": "text/x-python",
   "name": "python",
   "nbconvert_exporter": "python",
   "pygments_lexer": "ipython3",
   "version": "3.8.19"
  }
 },
 "nbformat": 4,
 "nbformat_minor": 2
}
